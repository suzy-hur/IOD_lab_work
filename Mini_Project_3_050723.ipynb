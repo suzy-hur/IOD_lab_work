{
  "nbformat": 4,
  "nbformat_minor": 0,
  "metadata": {
    "colab": {
      "provenance": [],
      "authorship_tag": "ABX9TyM2yqMPWQyjBTGbfTKqzfdK",
      "include_colab_link": true
    },
    "kernelspec": {
      "name": "python3",
      "display_name": "Python 3"
    },
    "language_info": {
      "name": "python"
    }
  },
  "cells": [
    {
      "cell_type": "markdown",
      "metadata": {
        "id": "view-in-github",
        "colab_type": "text"
      },
      "source": [
        "<a href=\"https://colab.research.google.com/github/suzy-hur/IOD_lab_work/blob/main/Mini_Project_3_050723.ipynb\" target=\"_parent\"><img src=\"https://colab.research.google.com/assets/colab-badge.svg\" alt=\"Open In Colab\"/></a>"
      ]
    },
    {
      "cell_type": "markdown",
      "source": [
        "# Mini Project 3\n",
        "### Implement and evaluate a K-Nearest Neighbors (KNN) classification model on an Australian credit approval dataset using preprocessing techniques, hyperparameter tuning, one-hot encoding, and performance metric analysis."
      ],
      "metadata": {
        "id": "1bkCNVptnaxS"
      }
    },
    {
      "cell_type": "markdown",
      "source": [
        "## Introduction:\n",
        "For this assignment, I will be working with the Australian Credit Approval dataset, utilising the K-Nearest Neighbours (KNN) algorithm to classify credit applications as approved or denied. The main objectives of this project are preprocessing the data, performing feature selection, employing KNN with hyperparameter tuning, and evaluating performance metrics.\n",
        "\n",
        "\n",
        "## Scope of the Assignment:\n",
        "\n",
        "* Dataset: Use the Australian Credit Approval dataset, containing both numeric and categorical variables\n",
        "* Algorithm: Implement the K-Nearest Neighbours (KNN) algorithm for credit classification\n",
        "\n",
        "## Preprocessing:\n",
        "* Dummy Variable Creation: Perform one-hot encoding to convert categorical variables into binary features\n",
        "* Standardisation or Normalisation: Choose either standardisation or normalisation based on performance\n",
        "* Feature Selection: Utilise Principal Component Analysis (PCA) to reduce the number of features\n",
        "** Compare results with Recursive Feature Elimination (RFE)\n",
        "\n",
        "## Model Training:\n",
        "* Construct a pipeline to automate the preprocessing steps and model training process\n",
        "* Use KNN with grid search for hyperparameter tuning to optimise performance\n",
        "\n",
        "## Performance Evaluation:\n",
        "* Print important metrics including precision, recall, accuracy, ROC curve, and confusion matrix\n"
      ],
      "metadata": {
        "id": "EzBP0Id7na3L"
      }
    },
    {
      "cell_type": "markdown",
      "source": [
        "## Steps:\n",
        "\n",
        "* Download and utilise the Australian Credit Approval dataset\n",
        "* Implement the K-Nearest Neighbours (KNN) algorithm for credit classification\n",
        "* Preprocess the data by performing one-hot encoding for categorical variables\n",
        "* Choose between standardisation or normalisation based on performance evaluation\n",
        "* Perform feature selection using Principal Component Analysis (PCA) and compare with Recursive Feature Elimination (RFE)\n",
        "* Create a pipeline to automate preprocessing and model training\n",
        "* Use grid search for hyperparameter tuning of the KNN algorithm\n",
        "* Print and analyse important metrics including precision, recall, accuracy, ROC curve, and confusion matrix"
      ],
      "metadata": {
        "id": "l0l_SqfTnz7w"
      }
    },
    {
      "cell_type": "code",
      "source": [
        "import pandas as pd\n",
        "import matplotlib.pyplot as plt\n",
        "from sklearn.preprocessing import OneHotEncoder, StandardScaler\n",
        "from sklearn.decomposition import PCA\n",
        "from sklearn.feature_selection import RFE\n",
        "from sklearn.linear_model import LogisticRegression\n",
        "from sklearn.neighbors import KNeighborsClassifier\n",
        "from sklearn.pipeline import Pipeline\n",
        "from sklearn.model_selection import GridSearchCV\n",
        "from sklearn.metrics import classification_report, confusion_matrix, roc_curve, roc_auc_score\n",
        "from sklearn.metrics import accuracy_score, precision_score, recall_score, f1_score\n",
        "from sklearn.pipeline import Pipeline\n",
        "from sklearn.model_selection import train_test_split"
      ],
      "metadata": {
        "id": "AeRgPEYXgkae"
      },
      "execution_count": 39,
      "outputs": []
    },
    {
      "cell_type": "code",
      "source": [
        "# Define column names and data types\n",
        "column_names = ['A1', 'A2', 'A3', 'A4', 'A5', 'A6', 'A7', 'A8', 'A9', 'A10', 'A11', 'A12', 'A13', 'A14', 'A15']\n",
        "dtypes = {'A1': str, 'A2': float, 'A3': float, 'A4': str, 'A5': str, 'A6': str, 'A7': float, 'A8': str, 'A9': str, 'A10': str, 'A11': str, 'A12': str, 'A13': float, 'A14': float, 'A15': str}\n",
        "\n",
        "# Read the data with column names and data types\n",
        "df = pd.read_csv(\"australian.dat\", header=None, delimiter=r\"\\s+\", names=column_names, dtype=dtypes)\n",
        "\n",
        "# Print the updated DataFrame\n",
        "print(df.head().to_string(index=False, justify='left'))\n"
      ],
      "metadata": {
        "colab": {
          "base_uri": "https://localhost:8080/"
        },
        "id": "bCKaUdd6iqsd",
        "outputId": "9e61409c-e619-4829-a460-f6e7d3d26eb4"
      },
      "execution_count": 40,
      "outputs": [
        {
          "output_type": "stream",
          "name": "stdout",
          "text": [
            "A1  A2    A3   A4 A5 A6  A7   A8 A9 A10 A11 A12  A13   A14   A15\n",
            "1  22.08 11.46 2  4  4  1.585 0  0   0  1   2   100.0 1213.0 0  \n",
            "0  22.67  7.00 2  8  4  0.165 0  0   0  0   2   160.0    1.0 0  \n",
            "0  29.58  1.75 1  4  4  1.250 0  0   0  1   2   280.0    1.0 0  \n",
            "0  21.67 11.50 1  5  3  0.000 1  1  11  1   2     0.0    1.0 1  \n",
            "1  20.17  8.17 2  6  4  1.960 1  1  14  0   2    60.0  159.0 1  \n"
          ]
        }
      ]
    },
    {
      "cell_type": "markdown",
      "source": [
        "* Defined column names and data types: A list of column names and a dictionary\n",
        "specifying the data types for each column were created\n",
        "* Read the data: The dataset was read from the \"australian.dat\" file using the pd.read_csv() function\n",
        " * The column names, data types, and other parameters such as header, delimiter, and names were specified during the read operation\n",
        "* Printed the updated DataFrame: The first five rows of the DataFrame were printed using the head() function, and the to_string() method was used to format the output without row indices, with left justification"
      ],
      "metadata": {
        "id": "NfXHQRqhocc_"
      }
    },
    {
      "cell_type": "code",
      "source": [
        "df.columns"
      ],
      "metadata": {
        "colab": {
          "base_uri": "https://localhost:8080/"
        },
        "id": "EfeQsUHwgybO",
        "outputId": "58c0f406-4eb1-42e0-fef6-5474939d5588"
      },
      "execution_count": 41,
      "outputs": [
        {
          "output_type": "execute_result",
          "data": {
            "text/plain": [
              "Index(['A1', 'A2', 'A3', 'A4', 'A5', 'A6', 'A7', 'A8', 'A9', 'A10', 'A11',\n",
              "       'A12', 'A13', 'A14', 'A15'],\n",
              "      dtype='object')"
            ]
          },
          "metadata": {},
          "execution_count": 41
        }
      ]
    },
    {
      "cell_type": "code",
      "source": [
        "df.shape"
      ],
      "metadata": {
        "colab": {
          "base_uri": "https://localhost:8080/"
        },
        "id": "I5rhArJLn9NY",
        "outputId": "c74f3bdb-87e7-4cf4-e055-5ef144ea439a"
      },
      "execution_count": 48,
      "outputs": [
        {
          "output_type": "execute_result",
          "data": {
            "text/plain": [
              "(690, 15)"
            ]
          },
          "metadata": {},
          "execution_count": 48
        }
      ]
    },
    {
      "cell_type": "code",
      "execution_count": 42,
      "metadata": {
        "id": "-TppLM2IgbOG"
      },
      "outputs": [],
      "source": [
        "# Perform one-hot encoding on the categorical columns\n",
        "categorical_cols = ['A1', 'A4', 'A5', 'A6', 'A8', 'A9', 'A10', 'A11', 'A12']\n",
        "encoder = OneHotEncoder()\n",
        "encoded_data = encoder.fit_transform(df[categorical_cols])\n",
        "encoded_df = pd.DataFrame(encoded_data.toarray(), columns=encoder.get_feature_names_out(categorical_cols))\n",
        "\n",
        "# Standardize the numerical columns\n",
        "numerical_cols = ['A2', 'A3', 'A7', 'A13', 'A14']\n",
        "scaler = StandardScaler()\n",
        "df[numerical_cols] = scaler.fit_transform(df[numerical_cols])\n",
        "\n",
        "# Concatenate the encoded DataFrame with the original numerical columns\n",
        "processed_df = pd.concat([encoded_df, df.drop(categorical_cols, axis=1)], axis=1)\n",
        "\n",
        "# Split the data into features (X) and target (y)\n",
        "X = processed_df.drop('A15', axis=1)\n",
        "y = processed_df['A15']\n",
        "\n",
        "# Perform feature selection using PCA\n",
        "pca = PCA(n_components=5)\n",
        "X_pca = pca.fit_transform(X)"
      ]
    },
    {
      "cell_type": "markdown",
      "source": [
        "* Performed one-hot encoding on the categorical columns: The list categorical_cols contained the names of columns that needed one-hot encoding\n",
        " * An instance of the OneHotEncoder class was created, and the fit_transform() method was used to encode the categorical columns in the DataFrame df\n",
        " * The encoded data was stored in a sparse matrix format\n",
        "* Created an encoded DataFrame: The encoded data was converted to a dense array using the toarray() method, and a new DataFrame encoded_df was created with the encoded columns\n",
        " * The column names for the encoded features were obtained using the get_feature_names_out() method of the encoder\n",
        "* Standardised the numerical columns: The list numerical_cols contained the names of columns that needed standardisation\n",
        " * An instance of the StandardScaler class was created, and the fit_transform() method was used to standardize the numerical columns in the DataFrame df\n",
        " * The standardized values were updated in the original DataFrame\n",
        "* Concatenated the encoded DataFrame with the original numerical columns: The concat() function from pandas was used to concatenate encoded_df and the original DataFrame df after dropping the categorical columns specified by categorical_cols\n",
        " * The resulting DataFrame was stored in processed_df\n",
        "* Split the data into features (X) and target (y): The DataFrame processed_df was split into features (X) and target (y)\n",
        " * The features were obtained by dropping the 'A15' column, and the target was extracted by selecting only the 'A15' column\n",
        "* Performed feature selection using PCA: An instance of the PCA class was created with n_components=5, indicating that the number of components was reduced to 5\n",
        " * The fit_transform() method was applied to the features X to perform dimensionality reduction using PCA, and the transformed data was stored in X_pca"
      ],
      "metadata": {
        "id": "cS2gNWiHo9d-"
      }
    },
    {
      "cell_type": "code",
      "source": [
        "processed_df.shape"
      ],
      "metadata": {
        "colab": {
          "base_uri": "https://localhost:8080/"
        },
        "id": "YVd9lLxfoFcn",
        "outputId": "83090c9a-b601-448b-d5d3-ad160cc93803"
      },
      "execution_count": 49,
      "outputs": [
        {
          "output_type": "execute_result",
          "data": {
            "text/plain": [
              "(690, 65)"
            ]
          },
          "metadata": {},
          "execution_count": 49
        }
      ]
    },
    {
      "cell_type": "code",
      "source": [
        "# Perform feature selection using RFE with LogisticRegression as the estimator\n",
        "estimator = LogisticRegression()\n",
        "rfe = RFE(estimator, n_features_to_select=5)\n",
        "X_rfe = rfe.fit_transform(X, y)\n",
        "\n",
        "# Create a pipeline for preprocessing and model training\n",
        "pipeline = Pipeline([\n",
        "    ('preprocessor', StandardScaler()),\n",
        "    ('feature_selection', PCA(n_components=5)),\n",
        "    ('classifier', KNeighborsClassifier())\n",
        "])\n",
        "\n",
        "# Define the parameter grid for grid search\n",
        "param_grid = {\n",
        "    'feature_selection__n_components': [5, 10, 15],\n",
        "    'classifier__n_neighbors': [3, 5, 7]\n",
        "}\n",
        "\n",
        "# Perform grid search for hyperparameter tuning\n",
        "grid_search = GridSearchCV(pipeline, param_grid, cv=5)\n",
        "grid_search.fit(X, y)\n",
        "\n",
        "# Make predictions on the testing data\n",
        "y_pred = grid_search.predict(X)\n",
        "y_pred_prob = grid_search.predict_proba(X)[:, 1]\n",
        "\n",
        "# Print classification report and confusion matrix\n",
        "print('Classification report:\\n', classification_report(y, y_pred))\n",
        "print('Confusion matrix:\\n', confusion_matrix(y, y_pred))"
      ],
      "metadata": {
        "colab": {
          "base_uri": "https://localhost:8080/"
        },
        "id": "-Oz7qyI5jWMM",
        "outputId": "3b35c8c5-b12a-4c8e-834a-a37c3d51a5f1"
      },
      "execution_count": 43,
      "outputs": [
        {
          "output_type": "stream",
          "name": "stdout",
          "text": [
            "Classification report:\n",
            "               precision    recall  f1-score   support\n",
            "\n",
            "           0       0.89      0.92      0.90       383\n",
            "           1       0.89      0.85      0.87       307\n",
            "\n",
            "    accuracy                           0.89       690\n",
            "   macro avg       0.89      0.88      0.89       690\n",
            "weighted avg       0.89      0.89      0.89       690\n",
            "\n",
            "Confusion matrix:\n",
            " [[351  32]\n",
            " [ 45 262]]\n"
          ]
        }
      ]
    },
    {
      "cell_type": "markdown",
      "source": [
        "* Performed feature selection using RFE with LogisticRegression as the estimator:\n",
        " * Created an instance of the LogisticRegression estimator\n",
        " * Created an instance of the RFE (Recursive Feature Elimination) class with the estimator and set n_features_to_select to 5\n",
        " * Applied the RFE fit_transform() method on features X and target y\n",
        " * The transformed data with selected features was stored in X_rfe\n",
        "\n",
        "* Created a pipeline for preprocessing and model training:\n",
        " * Defined a pipeline using the Pipeline class, consisting of the following steps:\n",
        "  * 'preprocessor': StandardScaler for preprocessing\n",
        "  * 'feature_selection': PCA with n_components set to 5 for feature selection\n",
        "  * 'classifier': KNeighborsClassifier as the classifier\n",
        " * Each step in the pipeline is a tuple containing a name and an instantiated transformer or estimator\n",
        "\n",
        "* Defined the parameter grid for grid search:\n",
        " * Created a dictionary param_grid with the hyperparameters to tune for the pipeline\n",
        " * The hyperparameters included feature_selection__n_components with values [5, 10, 15] for the number of components in PCA, and classifier__n_neighbors with values [3, 5, 7] for the number of neighbors in KNeighborsClassifier\n",
        "\n",
        "* Performed grid search for hyperparameter tuning:\n",
        " * Created an instance of GridSearchCV with the pipeline, parameter grid, and cv=5 for 5-fold cross-validation\n",
        " * Fit the grid search object on features X and target y to search for the best hyperparameters\n",
        "\n",
        "* Made predictions on the testing data:\n",
        " * Used the predict() method on the grid search object to make predictions on the features X\n",
        " * Used the predict_proba() method on the grid search object to obtain predicted probabilities for class 1\n",
        " * Predicted labels were stored in y_pred, and predicted probabilities for class 1 were stored in y_pred_prob\n",
        "\n",
        "* Printed classification report and confusion matrix:\n",
        " * Used the classification_report() function to generate a classification report, including metrics such as precision, recall, F1-score, and support, for comparing the predicted labels y_pred and the actual labels y\n",
        " * Used the confusion_matrix() function to compute the confusion matrix, showing the counts of true positive, false positive, true negative, and false negative predictions, based on the predicted labels y_pred and the actual labels y"
      ],
      "metadata": {
        "id": "nxvve1lcp6Wa"
      }
    },
    {
      "cell_type": "code",
      "source": [
        "# Convert labels to numeric format\n",
        "y_numeric = y.astype(int)\n",
        "\n",
        "# Make predictions on the testing data\n",
        "y_pred = grid_search.predict(X)\n",
        "y_pred_prob = grid_search.predict_proba(X)[:, 1]\n",
        "\n",
        "# Calculate the ROC curve\n",
        "fpr, tpr, _ = roc_curve(y_numeric, y_pred_prob)\n",
        "roc_auc = roc_auc_score(y_numeric, y_pred_prob)"
      ],
      "metadata": {
        "id": "HoH3xEo2jv5Q"
      },
      "execution_count": 44,
      "outputs": []
    },
    {
      "cell_type": "markdown",
      "source": [
        "* Converted labels to numeric format:\n",
        " * The target labels y were converted to the integer format using the astype(int) method, and the resulting numeric labels were stored in y_numeric\n",
        "\n",
        "* Made predictions on the testing data:\n",
        " * The trained grid_search model was used to make predictions on the features X, and the predicted labels were stored in y_pred\n",
        " * The predicted probabilities for the positive class were obtained using the predict_proba() method of grid_search and selecting the second column ([:, 1])\n",
        "  * These probabilities were stored in y_pred_prob\n",
        "\n",
        "* Calculated the ROC curve:\n",
        " * The roc_curve() function from scikit-learn was used to calculate the Receiver Operating Characteristic (ROC) curve\n",
        "  * The input parameters were the numeric labels y_numeric and the predicted probabilities y_pred_prob\n",
        " * The resulting values for the false positive rate (fpr), true positive rate (tpr), and thresholds (_) were extracted\n",
        " * The area under the ROC curve (ROC AUC) was calculated using the roc_auc_score() function from scikit-learn\n",
        "  * The input parameters were the numeric labels y_numeric and the predicted probabilities y_pred_prob, the calculated ROC AUC was stored in roc_auc"
      ],
      "metadata": {
        "id": "j6JVr9_Brf08"
      }
    },
    {
      "cell_type": "code",
      "source": [
        "plt.figure(figsize=[8, 8])\n",
        "plt.plot(fpr, tpr, color='pink', label='ROC curve (area = %0.2f)' % roc_auc, linewidth=4)\n",
        "plt.plot([0, 1], [0, 1], 'k--', linewidth=4)\n",
        "plt.xlim([-0.05, 1.0])\n",
        "plt.ylim([-0.05, 1.05])\n",
        "plt.xlabel('False Positive Rate', fontsize=14)\n",
        "plt.ylabel('True Positive Rate', fontsize=14)\n",
        "plt.title('Receiver Operating Characteristic (ROC)', fontsize=16)\n",
        "plt.legend(loc='lower right')\n",
        "plt.show()"
      ],
      "metadata": {
        "colab": {
          "base_uri": "https://localhost:8080/",
          "height": 725
        },
        "id": "djrdq4Dfj1Wd",
        "outputId": "fc379bd2-306c-4f8e-e898-73568fcf02d8"
      },
      "execution_count": 45,
      "outputs": [
        {
          "output_type": "display_data",
          "data": {
            "text/plain": [
              "<Figure size 800x800 with 1 Axes>"
            ],
            "image/png": "[encoded data removed]"
          },
          "metadata": {}
        }
      ]
    },
    {
      "cell_type": "markdown",
      "source": [
        "* Plotted the ROC curve"
      ],
      "metadata": {
        "id": "Ql87YQqgr-It"
      }
    },
    {
      "cell_type": "markdown",
      "source": [
        "# Without pipeline"
      ],
      "metadata": {
        "id": "rEVTf6GwmVEU"
      }
    },
    {
      "cell_type": "code",
      "source": [
        "# Split the data into features (X) and target (y)\n",
        "X = processed_df.drop('A15', axis=1)\n",
        "y = processed_df['A15']\n",
        "\n",
        "# Split the data into training and testing sets\n",
        "X_train, X_test, y_train, y_test = train_test_split(X, y, test_size=0.2, random_state=42)\n",
        "\n",
        "# Preprocess the training data\n",
        "preprocessor = StandardScaler()\n",
        "X_train_preprocessed = preprocessor.fit_transform(X_train)\n",
        "X_test_preprocessed = preprocessor.transform(X_test)\n",
        "\n",
        "# Train the model\n",
        "model = KNeighborsClassifier()\n",
        "model.fit(X_train_preprocessed, y_train)\n",
        "\n",
        "# Make predictions on the test set\n",
        "y_pred = model.predict(X_test_preprocessed)\n",
        "\n",
        "# Calculate accuracy\n",
        "accuracy = accuracy_score(y_test, y_pred)\n",
        "print('Accuracy:', accuracy)\n",
        "\n",
        "# Calculate precision\n",
        "precision = precision_score(y_test, y_pred, pos_label='1')\n",
        "print('Precision:', precision)\n",
        "\n",
        "# Calculate recall\n",
        "recall = recall_score(y_test, y_pred, pos_label='1')\n",
        "print('Recall:', recall)\n",
        "\n",
        "# Calculate F1 score\n",
        "f1 = f1_score(y_test, y_pred, pos_label='1')\n",
        "print('F1 Score:', f1)"
      ],
      "metadata": {
        "colab": {
          "base_uri": "https://localhost:8080/"
        },
        "id": "nCxLso_IlNfa",
        "outputId": "71396283-c0ea-49c7-8b51-012c6867e377"
      },
      "execution_count": 46,
      "outputs": [
        {
          "output_type": "stream",
          "name": "stdout",
          "text": [
            "Accuracy: 0.8405797101449275\n",
            "Precision: 0.8222222222222222\n",
            "Recall: 0.7254901960784313\n",
            "F1 Score: 0.7708333333333334\n"
          ]
        }
      ]
    },
    {
      "cell_type": "markdown",
      "source": [
        "* Split the data into features (X) and target (y):\n",
        " * The DataFrame processed_df was used to assign the features (X) by dropping the column 'A15' using the drop() function with axis=1\n",
        " * The target (y) was assigned by selecting only the column 'A15' from the DataFrame processed_df\n",
        "\n",
        "* Split the data into training and testing sets:\n",
        " * The train_test_split() function was used to split the features (X) and target (y) into training and testing sets.\n",
        " * The training set size was set to 80% of the data (test_size=0.2), and a random state of 42 was used for reproducibility\n",
        " * The resulting splits were assigned to variables X_train, X_test, y_train, and y_test\n",
        "\n",
        "* Preprocess the training data:\n",
        " * An instance of StandardScaler() was created as the preprocessor to standardize the data\n",
        " * The training features X_train were standardised using the fit_transform() method of the preprocessor\n",
        " * The testing features X_test were transformed using the transform() method of the preprocessor to apply the same transformation\n",
        "\n",
        "* Train the model:\n",
        " * An instance of KNeighborsClassifier() was created as the model\n",
        " * The model was trained on the preprocessed training features X_train_preprocessed and the corresponding training labels y_train using the fit() method\n",
        "\n",
        "* Make predictions on the test set:\n",
        " * Predictions were made on the preprocessed testing features X_test_preprocessed using the trained model's predict() method\n",
        "\n",
        "* Calculate accuracy:\n",
        " * The accuracy score was calculated by comparing the predicted labels y_pred with the actual labels y_test using the accuracy_score() function\n",
        "\n",
        "* Calculate precision:\n",
        " * The precision score was calculated by comparing the predicted labels y_pred with the actual labels y_test using the precision_score() function\n",
        " * The pos_label parameter was set to '1' to indicate the positive class label\n",
        "\n",
        "* Calculate recall:\n",
        " * The recall score was calculated by comparing the predicted labels y_pred with the actual labels y_test using the recall_score() function\n",
        " * The pos_label parameter was set to '1' to indicate the positive class label\n",
        "\n",
        "* Calculate F1 score:\n",
        " * The F1 score was calculated by comparing the predicted labels y_pred with the actual labels y_test using the f1_score() function\n",
        " * The pos_label parameter was set to '1' to indicate the positive class label"
      ],
      "metadata": {
        "id": "fzqo7eQEs_mF"
      }
    },
    {
      "cell_type": "markdown",
      "source": [
        "# With pipeline"
      ],
      "metadata": {
        "id": "gdZDasFXmZl0"
      }
    },
    {
      "cell_type": "code",
      "source": [
        "# Split the data into features (X) and target (y)\n",
        "X = processed_df.drop('A15', axis=1)\n",
        "y = processed_df['A15']\n",
        "\n",
        "# Split the data into training and testing sets\n",
        "X_train, X_test, y_train, y_test = train_test_split(X, y, test_size=0.2, random_state=42)\n",
        "\n",
        "# Create a pipeline for preprocessing and model training\n",
        "pipeline = Pipeline([\n",
        "    ('preprocessor', StandardScaler()),\n",
        "    ('classifier', KNeighborsClassifier())\n",
        "])\n",
        "\n",
        "# Fit the pipeline on the training data\n",
        "pipeline.fit(X_train, y_train)\n",
        "\n",
        "# Make predictions on the test set\n",
        "y_pred = pipeline.predict(X_test)\n",
        "\n",
        "# Calculate accuracy\n",
        "accuracy = accuracy_score(y_test, y_pred)\n",
        "print('Accuracy:', accuracy)\n",
        "\n",
        "# Calculate precision\n",
        "precision = precision_score(y_test, y_pred, pos_label='1')\n",
        "print('Precision:', precision)\n",
        "\n",
        "# Calculate recall\n",
        "recall = recall_score(y_test, y_pred, pos_label='1')\n",
        "print('Recall:', recall)\n",
        "\n",
        "# Calculate F1 score\n",
        "f1 = f1_score(y_test, y_pred, pos_label='1')\n",
        "print('F1 Score:', f1)"
      ],
      "metadata": {
        "colab": {
          "base_uri": "https://localhost:8080/"
        },
        "id": "ZuKUh2rambdM",
        "outputId": "bf910844-01eb-4378-a486-57367fee0faf"
      },
      "execution_count": 47,
      "outputs": [
        {
          "output_type": "stream",
          "name": "stdout",
          "text": [
            "Accuracy: 0.8405797101449275\n",
            "Precision: 0.8222222222222222\n",
            "Recall: 0.7254901960784313\n",
            "F1 Score: 0.7708333333333334\n"
          ]
        }
      ]
    },
    {
      "cell_type": "markdown",
      "source": [
        "\n",
        "* Split the data into features (X) and target (y):\n",
        " * The DataFrame processed_df was used to assign the features (X) by dropping the column 'A15' using the drop() function with axis=1\n",
        " * The target (y) was assigned by selecting only the column 'A15' from the DataFrame processed_df\n",
        "\n",
        "* Split the data into training and testing sets:\n",
        " * The train_test_split() function was used to split the features (X) and target (y) into training and testing sets\n",
        " * The testing set size was set to 20% of the data (test_size=0.2), and a random state of 42 was used for reproducibility\n",
        " * The resulting splits were assigned to variables X_train, X_test, y_train, and y_test\n",
        "\n",
        "* Create a pipeline for preprocessing and model training:\n",
        " * A pipeline was created using the Pipeline() constructor with two steps:\n",
        "  * The first step was a preprocessor named 'preprocessor', which applied the StandardScaler() to standardize the data\n",
        "  * The second step was a classifier named 'classifier', which used the KNeighborsClassifier() algorithm\n",
        " * The steps were defined in a list of tuples with the format (name, estimator)\n",
        "\n",
        "* Fit the pipeline on the training data:\n",
        " * The pipeline was trained on the training features X_train and the corresponding training labels y_train using the fit() method of the pipeline\n",
        "\n",
        "* Make predictions on the test set:\n",
        " * Predictions were made on the test features X_test using the trained pipeline's predict() method\n",
        "\n",
        "* Calculate accuracy:\n",
        " * The accuracy score was calculated by comparing the predicted labels y_pred with the actual labels y_test using the accuracy_score() function\n",
        "\n",
        "* Calculate precision:\n",
        " * The precision score was calculated by comparing the predicted labels y_pred with the actual labels y_test using the precision_score() function\n",
        " * The pos_label parameter was set to '1' to indicate the positive class label\n",
        "\n",
        "* Calculate recall:\n",
        " * The recall score was calculated by comparing the predicted labels y_pred with the actual labels y_test using the recall_score() function\n",
        " * The pos_label parameter was set to '1' to indicate the positive class label\n",
        "\n",
        "* Calculate F1 score:\n",
        " * The F1 score was calculated by comparing the predicted labels y_pred with the actual labels y_test using the f1_score() function\n",
        " * The pos_label parameter was set to '1' to indicate the positive class label\n"
      ],
      "metadata": {
        "id": "4MqZ6DvmvZAy"
      }
    },
    {
      "cell_type": "markdown",
      "source": [
        "# Conclusion\n",
        "\n",
        "In our project, we utilised the K-Nearest Neighbours (KNN) algorithm to classify credit applications as approved or denied. After implementing the algorithm and evaluating its performance,  the following results were obtained:\n",
        "\n",
        "* Accuracy: 0.8406\n",
        "* Precision: 0.8222\n",
        "* Recall: 0.7255\n",
        "* F1 Score: 0.7708\n",
        "\n",
        "These metrics indicate the effectiveness of our model in making accurate predictions. However, when examining the classification report, there was a slight difference in precision, recall, and F1 score for the two classes: 0 and 1.\n",
        "\n",
        "For class 0 (denied applications), the precision is 0.89, meaning that 89% of the predicted denied applications were correct. The recall is 0.92, indicating that 92% of the actual denied applications were correctly identified by the model. The F1 score, which combines precision and recall, is 0.90.\n",
        "\n",
        "For class 1 (approved applications), the precision is 0.89, suggesting that 89% of the predicted approved applications were correct. The recall is 0.85, indicating that 85% of the actual approved applications were correctly identified by the model. The F1 score for this class is 0.87.\n",
        "\n",
        "The differences in precision, recall, and F1 score between the two classes can be attributed to the inherent class imbalance in the dataset. There were more instances of class 0 (denied applications) than class 1 (approved applications). The model tends to perform better on the majority class (class 0) due to the larger number of samples available for learning. This results in higher precision, recall, and F1 score for class 0 compared to class 1.\n",
        "\n",
        "Based on these results, it can be concluded that the model demonstrates good overall performance in classifying credit applications. It achieves high accuracy and satisfactory precision, recall, and F1 score. However, further analysis and potentially more sophisticated techniques could be explored to improve the performance on the minority class (class 1) and balance the predictive power across both classes."
      ],
      "metadata": {
        "id": "m0xc85pnw65p"
      }
    }
  ]
}