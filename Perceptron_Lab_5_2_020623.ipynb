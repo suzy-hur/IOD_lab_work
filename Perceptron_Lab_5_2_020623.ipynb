{
  "cells": [
    {
      "cell_type": "markdown",
      "metadata": {
        "id": "view-in-github",
        "colab_type": "text"
      },
      "source": [
        "<a href=\"https://colab.research.google.com/github/suzy-hur/IOD_lab_work/blob/main/Perceptron_Lab_5_2_020623.ipynb\" target=\"_parent\"><img src=\"https://colab.research.google.com/assets/colab-badge.svg\" alt=\"Open In Colab\"/></a>"
      ]
    },
    {
      "cell_type": "markdown",
      "metadata": {
        "id": "jq8zRd3jTtAb"
      },
      "source": [
        "<div>\n",
        "<img src=https://www.institutedata.com/wp-content/uploads/2019/10/iod_h_tp_primary_c.svg width=\"300\">\n",
        "</div>"
      ]
    },
    {
      "cell_type": "markdown",
      "metadata": {
        "id": "ioFn-df0TtAd"
      },
      "source": [
        "# Lab 5.2\n",
        "# *The Perceptron*"
      ]
    },
    {
      "cell_type": "markdown",
      "metadata": {
        "id": "9ZrnRfDnTtAf"
      },
      "source": [
        "The perceptron is the basic unit of a neural network. It learns by adjusting the weights applied to each of its inputs until the error at its output is minimised.\n",
        "\n",
        "The example in this lab uses the stochastic gradient descent (SGD) algorithm to optimise the weights of a perceptron applied to a 2D classification problem."
      ]
    },
    {
      "cell_type": "markdown",
      "source": [
        "# Perceptron:\n",
        "\n",
        "* Perceptron is a simple model inspired by how our brain works\n",
        "* Like a computer program that learns to make decisions, just like humans learn from experiences\n",
        "* First nvented in 1957 by an American psychologist named Frank Rosenblatt\n",
        "* Perceptron takes in some inputs (like numbers) and makes a decision based on those inputs\n",
        "* It learns by adjusting the importance it gives to each input, in a similar way humans learn to pay more attention to certain things\n",
        "* People use perceptrons to solve problems like classifying things into different groups or predicting outcomes based on some inputs\n",
        "\n",
        "\n",
        "# Support Vector Machine (SVM):\n",
        "\n",
        "* Another type of model that helps with decision-making\n",
        "* First developed by computer scientists Vladimir Vapnik and Alexey Chervonenkis in the 1990s\n",
        "* SVM takes examples and tries to find the best way to separate them into different groups\n",
        "* Similar to drawing a line or a curve on a piece of paper to separate different things\n",
        "* SVM is good at finding the best separation line or curve\n",
        "* Often used for tasks like classifying emails as spam or not spam, or recognizing different types of objects in images\n",
        "\n",
        "# Using Perceptrons and SVMs:\n",
        "\n",
        "* To use a perceptron or SVM, you need to give it some examples and let it learn from them.\n",
        "* For example, if you want a perceptron to learn to tell whether a fruit is an apple or an orange, you can show it many pictures of apples and oranges and tell it which is which.\n",
        "* Then, the perceptron will learn to make its own decisions based on the patterns it sees in the pictures.\n",
        "* SVMs work in a similar way. You show it examples and it finds the best way to separate them into groups.\n",
        "* Once the perceptron or SVM has learned, you can give it new inputs, and it will try to make a decision based on what it has learned.\n",
        "\n",
        "# Visual Representations:\n",
        "\n",
        "* Perceptrons and SVMs can be represented with simple visuals like graphs or diagrams.\n",
        "* For a perceptron, you can imagine arrows coming in with numbers as inputs, and a decision being made at the end.\n",
        "* SVMs can be represented with lines or curves that separate different groups of points on a graph.\n",
        "* These visuals help us understand how the models work and how they make decisions."
      ],
      "metadata": {
        "id": "WI6r8OI2gUI4"
      }
    },
    {
      "cell_type": "code",
      "execution_count": 1,
      "metadata": {
        "ExecuteTime": {
          "end_time": "2019-05-08T08:26:36.248424Z",
          "start_time": "2019-05-08T08:26:35.663989Z"
        },
        "id": "zx6z5_xXTtAi"
      },
      "outputs": [],
      "source": [
        "import numpy as np\n",
        "from matplotlib import pyplot as plt\n",
        "%matplotlib inline"
      ]
    },
    {
      "cell_type": "markdown",
      "metadata": {
        "id": "Xr7oFCsUTtAp"
      },
      "source": [
        "The training dataset has 2 numeric features (X is 2D) and a binary response (y = +/-1):"
      ]
    },
    {
      "cell_type": "code",
      "execution_count": 2,
      "metadata": {
        "ExecuteTime": {
          "end_time": "2019-05-08T08:26:38.234462Z",
          "start_time": "2019-05-08T08:26:38.227134Z"
        },
        "id": "fTGIf8aVTtAr"
      },
      "outputs": [],
      "source": [
        "X = np.array([[-2, 4], [4, 1], [1, 6], [2, 4], [6, 2]])\n",
        "y = np.array([-1, -1, 1, 1, 1])"
      ]
    },
    {
      "cell_type": "markdown",
      "metadata": {
        "id": "Mq1AisHdTtAx"
      },
      "source": [
        "Here is the training data, along with a candidate hyperplane that separates the classes:"
      ]
    },
    {
      "cell_type": "code",
      "execution_count": 3,
      "metadata": {
        "ExecuteTime": {
          "end_time": "2019-05-08T08:26:52.008948Z",
          "start_time": "2019-05-08T08:26:51.673659Z"
        },
        "id": "edayhuvQTtAz",
        "outputId": "62e0b114-1ed0-4249-c777-0aeea0479093",
        "colab": {
          "base_uri": "https://localhost:8080/",
          "height": 467
        }
      },
      "outputs": [
        {
          "output_type": "execute_result",
          "data": {
            "text/plain": [
              "[<matplotlib.lines.Line2D at 0x7f2058f324d0>]"
            ]
          },
          "metadata": {},
          "execution_count": 3
        },
        {
          "output_type": "display_data",
          "data": {
            "text/plain": [
              "<Figure size 640x480 with 1 Axes>"
            ],
            "image/png": "[encoded data removed]"
          },
          "metadata": {}
        }
      ],
      "source": [
        "def plotData(X):\n",
        "    for d, sample in enumerate(X):\n",
        "        # Plot the negative samples\n",
        "        if d < 2:\n",
        "            plt.scatter(sample[0], sample[1], s = 120, marker = '_', color = 'blue', linewidths = 2)\n",
        "        # Plot the positive samples\n",
        "        else:\n",
        "            plt.scatter(sample[0], sample[1], s = 120, marker = '+', color = 'blue', linewidths = 2)\n",
        "    plt.xlabel('X0')\n",
        "    plt.ylabel('X1')\n",
        "\n",
        "plotData(X)\n",
        "\n",
        "# Print a possible hyperplane, that is separating the two classes:\n",
        "plt.plot([-2, 6], [6, 0.5], color = 'orange', linestyle = 'dashed')"
      ]
    },
    {
      "cell_type": "markdown",
      "metadata": {
        "id": "C6cXLNCHTtA4"
      },
      "source": [
        "We need to include a bias term (-1) in the X array. This will transform the decision boundary so that the sign of the dot product of any data point with the weights vector, represented in the code below by $$⟨x[i], w⟩ = {\\rm wt}[0]\\times x_0 + {\\rm wt}[1]\\times x_1 + {\\rm wt}[2]\\times(-1),$$  will determine class membership:"
      ]
    },
    {
      "cell_type": "code",
      "execution_count": 4,
      "metadata": {
        "ExecuteTime": {
          "end_time": "2019-05-08T08:27:12.602633Z",
          "start_time": "2019-05-08T08:27:12.597240Z"
        },
        "id": "kB2nAgFCTtA5"
      },
      "outputs": [],
      "source": [
        "X = np.array([ [-2, 4, -1], [4, 1, -1], [1, 6, -1], [2, 4, -1], [6, 2, -1]])"
      ]
    },
    {
      "cell_type": "markdown",
      "metadata": {
        "id": "osAbAN8uTtA9"
      },
      "source": [
        "Here is a simple implementation of the stochastic gradient descent algorithm for computing the weights:"
      ]
    },
    {
      "cell_type": "code",
      "execution_count": 5,
      "metadata": {
        "ExecuteTime": {
          "end_time": "2019-05-08T08:27:19.076619Z",
          "start_time": "2019-05-08T08:27:19.057921Z"
        },
        "id": "p19kSX3ATtA-"
      },
      "outputs": [],
      "source": [
        "def perceptron_sgd(Xt, Yt, eta = 1, epochs = 20):\n",
        "\n",
        "    # Initialize the weight vector for the perceptron with zeros:\n",
        "    wt = np.zeros(len(Xt[0]))\n",
        "\n",
        "    for t in range(epochs):\n",
        "\n",
        "        # Iterate over each sample in the data set:\n",
        "        for i, x in enumerate(Xt):\n",
        "\n",
        "            # Test for misclassification: y * ⟨x[i], w⟩ <= 0:\n",
        "            if (np.dot(Xt[i], wt) * Yt[i]) <= 0:\n",
        "\n",
        "                # Update weights:\n",
        "                wt = wt + eta * Xt[i] * Yt[i]\n",
        "\n",
        "    return wt"
      ]
    },
    {
      "cell_type": "markdown",
      "metadata": {
        "id": "k0KLK06CTtBA"
      },
      "source": [
        "Compute the weights using default learning rate (eta = 1) and number of epochs = 10:"
      ]
    },
    {
      "cell_type": "code",
      "execution_count": 6,
      "metadata": {
        "ExecuteTime": {
          "end_time": "2019-05-08T08:27:21.238256Z",
          "start_time": "2019-05-08T08:27:21.230609Z"
        },
        "id": "hhnp-r5ZTtBB",
        "outputId": "c083f5bc-1835-4630-9130-a36669a96c4f",
        "colab": {
          "base_uri": "https://localhost:8080/"
        }
      },
      "outputs": [
        {
          "output_type": "stream",
          "name": "stdout",
          "text": [
            "[3. 4. 9.]\n"
          ]
        }
      ],
      "source": [
        "w = perceptron_sgd(X, y, epochs = 10)\n",
        "print(w)"
      ]
    },
    {
      "cell_type": "markdown",
      "metadata": {
        "id": "t-bVPkYmTtBE"
      },
      "source": [
        "Did it work? Let's check the decision boundary (hyperplane) and try some predictions:"
      ]
    },
    {
      "cell_type": "code",
      "execution_count": 7,
      "metadata": {
        "ExecuteTime": {
          "end_time": "2019-05-08T08:27:34.651008Z",
          "start_time": "2019-05-08T08:27:34.377160Z"
        },
        "id": "r7mGWtPfTtBF",
        "outputId": "6b6b4940-d66d-4187-f872-5318045028a8",
        "colab": {
          "base_uri": "https://localhost:8080/",
          "height": 467
        }
      },
      "outputs": [
        {
          "output_type": "execute_result",
          "data": {
            "text/plain": [
              "<matplotlib.collections.PathCollection at 0x7f2058e7e1d0>"
            ]
          },
          "metadata": {},
          "execution_count": 7
        },
        {
          "output_type": "display_data",
          "data": {
            "text/plain": [
              "<Figure size 640x480 with 1 Axes>"
            ],
            "image/png": "[encoded data removed]"
          },
          "metadata": {}
        }
      ],
      "source": [
        "def plotHyperplane(wt):\n",
        "\n",
        "    xx = np.linspace(-2,6)\n",
        "    yy = (-wt[0]*xx + wt[2])/wt[1]\n",
        "    plt.plot(xx, yy, color='orange')\n",
        "\n",
        "plotData(X)\n",
        "plotHyperplane(w)\n",
        "\n",
        "# Test samples:\n",
        "plt.scatter(2, 2, s = 120, marker = '_', linewidths = 2, color = 'red')\n",
        "plt.scatter(4, 3, s = 120, marker = '+', linewidths = 2, color = 'red')"
      ]
    },
    {
      "cell_type": "markdown",
      "metadata": {
        "id": "UP9Ce-hxTtBH"
      },
      "source": [
        "So far, all of the negatively labelled points are misclassified!\n",
        "\n",
        "Let's a look at how the model training actually proceeds. The error at each epoch is calculated using a hinge-loss function:"
      ]
    },
    {
      "cell_type": "code",
      "execution_count": 8,
      "metadata": {
        "ExecuteTime": {
          "end_time": "2019-05-08T08:28:37.761923Z",
          "start_time": "2019-05-08T08:28:37.416555Z"
        },
        "id": "Nj0rgwdWTtBI",
        "outputId": "acf8afda-3791-494a-ed69-7c7279a36582",
        "colab": {
          "base_uri": "https://localhost:8080/",
          "height": 473
        }
      },
      "outputs": [
        {
          "output_type": "stream",
          "name": "stdout",
          "text": [
            "[3. 4. 9.]\n"
          ]
        },
        {
          "output_type": "display_data",
          "data": {
            "text/plain": [
              "<Figure size 640x480 with 1 Axes>"
            ],
            "image/png": "[encoded data removed]"
          },
          "metadata": {}
        }
      ],
      "source": [
        "def perceptron_sgd_plot(Xt, Yt, eta = 1, epochs = 10):\n",
        "\n",
        "    wt = np.zeros(len(Xt[0]))\n",
        "    errors = []\n",
        "\n",
        "    for t in range(epochs):\n",
        "        total_error = 0\n",
        "        for i, x in enumerate(Xt):\n",
        "            if (np.dot(Xt[i], wt) * Yt[i]) <= 0:\n",
        "                total_error += (np.dot(Xt[i], wt) * Yt[i])\n",
        "                wt += eta * Xt[i] * Yt[i]\n",
        "        errors.append(total_error * (-1))\n",
        "\n",
        "    plt.plot(errors)\n",
        "    plt.xlabel('Epoch')\n",
        "    plt.ylabel('Total Loss')\n",
        "\n",
        "    return wt\n",
        "\n",
        "print(perceptron_sgd_plot(X, y))"
      ]
    },
    {
      "cell_type": "markdown",
      "metadata": {
        "id": "KQHKxWwPTtBL"
      },
      "source": [
        "So, 10 epochs clearly wasn't enough for the SGD algorithm to converge.\n",
        "\n",
        "Try a increasing `epochs` until the error goes to zero, then replot the test data and decision boundary:"
      ]
    },
    {
      "cell_type": "code",
      "execution_count": 9,
      "metadata": {
        "id": "unHdQjgETtBL",
        "colab": {
          "base_uri": "https://localhost:8080/",
          "height": 449
        },
        "outputId": "5da945c8-5356-4a99-faea-518b5b5b6a93"
      },
      "outputs": [
        {
          "output_type": "display_data",
          "data": {
            "text/plain": [
              "<Figure size 640x480 with 1 Axes>"
            ],
            "image/png": "[encoded data removed]"
          },
          "metadata": {}
        }
      ],
      "source": [
        "#?\n",
        "# Define the number of epochs to start with\n",
        "epochs = 10\n",
        "\n",
        "# Train the perceptron model with increasing epochs until error goes to zero\n",
        "while True:\n",
        "    weights = perceptron_sgd_plot(X, y, epochs=epochs)\n",
        "    if np.sum(np.dot(X, weights) * y <= 0) == 0:\n",
        "        break\n",
        "    epochs += 10\n",
        "\n",
        "# Plot the test data and decision boundary\n",
        "plt.scatter(X[:, 0], X[:, 1], c=y)\n",
        "x_boundary = np.linspace(np.min(X[:, 0]), np.max(X[:, 0]), 100)\n",
        "y_boundary = (-weights[0] * x_boundary - weights[2]) / weights[1]\n",
        "plt.plot(x_boundary, y_boundary, color='red')\n",
        "plt.xlabel('X')\n",
        "plt.ylabel('Y')\n",
        "plt.show()\n"
      ]
    },
    {
      "cell_type": "code",
      "execution_count": null,
      "metadata": {
        "id": "gV9DO1-mTtBO"
      },
      "outputs": [],
      "source": [
        "#?\n"
      ]
    },
    {
      "cell_type": "markdown",
      "metadata": {
        "id": "Hp-B7PMATtBQ"
      },
      "source": [
        "Show how to manually compute class membership for a new data point Xi = [3.5, 3.3] using just the weights determined above:"
      ]
    },
    {
      "cell_type": "code",
      "execution_count": 10,
      "metadata": {
        "id": "9AqWg7UDTtBR",
        "colab": {
          "base_uri": "https://localhost:8080/"
        },
        "outputId": "27da80c7-f9e7-4e9d-bc1f-c6048c27a11e"
      },
      "outputs": [
        {
          "output_type": "stream",
          "name": "stdout",
          "text": [
            "Class Membership: 1\n"
          ]
        }
      ],
      "source": [
        "#?\n",
        "import numpy as np\n",
        "\n",
        "# Assuming weights from the perceptron model\n",
        "weights = np.array([0.3, 0.5, -0.1])\n",
        "\n",
        "# New data point\n",
        "Xi = np.array([3.5, 3.3])\n",
        "\n",
        "# Add bias term\n",
        "Xi = np.append(Xi, 1)\n",
        "\n",
        "# Compute dot product\n",
        "dot_product = np.dot(Xi, weights)\n",
        "\n",
        "# Determine class membership\n",
        "if dot_product >= 0:\n",
        "    class_membership = 1\n",
        "else:\n",
        "    class_membership = -1\n",
        "\n",
        "print(\"Class Membership:\", class_membership)\n"
      ]
    },
    {
      "cell_type": "markdown",
      "source": [
        "In a similar manner make sure each of the training data points is correctly classified:"
      ],
      "metadata": {
        "id": "7sz7CxOl5kxs"
      }
    },
    {
      "cell_type": "code",
      "execution_count": 11,
      "metadata": {
        "id": "8J6Os9kSTtBT",
        "colab": {
          "base_uri": "https://localhost:8080/"
        },
        "outputId": "99e06efb-5194-463f-fc82-9f1f3d5116fd"
      },
      "outputs": [
        {
          "output_type": "stream",
          "name": "stdout",
          "text": [
            "Data Point: [2.5 2.7 1. ]\n",
            "Predicted Label: 1\n",
            "Actual Label: 1\n",
            "Correctly Classified: True\n",
            "\n",
            "Data Point: [1.8 1.9 1. ]\n",
            "Predicted Label: 1\n",
            "Actual Label: -1\n",
            "Correctly Classified: False\n",
            "\n",
            "Data Point: [3.2 3.1 1. ]\n",
            "Predicted Label: 1\n",
            "Actual Label: 1\n",
            "Correctly Classified: True\n",
            "\n"
          ]
        }
      ],
      "source": [
        "#?\n",
        "\n",
        "import numpy as np\n",
        "\n",
        "# Assuming weights from the perceptron model\n",
        "weights = np.array([0.3, 0.5, -0.1])\n",
        "\n",
        "# Training data points (X) and their corresponding labels (y)\n",
        "X = np.array([[2.5, 2.7], [1.8, 1.9], [3.2, 3.1]])\n",
        "y = np.array([1, -1, 1])\n",
        "\n",
        "# Add bias term to the training data points\n",
        "X = np.column_stack((X, np.ones(len(X))))\n",
        "\n",
        "# Check classification of each training data point\n",
        "for i in range(len(X)):\n",
        "    dot_product = np.dot(X[i], weights)\n",
        "    predicted_label = 1 if dot_product >= 0 else -1\n",
        "    print(\"Data Point:\", X[i])\n",
        "    print(\"Predicted Label:\", predicted_label)\n",
        "    print(\"Actual Label:\", y[i])\n",
        "    print(\"Correctly Classified:\", predicted_label == y[i])\n",
        "    print()\n"
      ]
    },
    {
      "cell_type": "markdown",
      "metadata": {
        "id": "UnscrVD3TtBU"
      },
      "source": [
        "## === End ==="
      ]
    },
    {
      "cell_type": "markdown",
      "metadata": {
        "id": "RERADKgNFq9T"
      },
      "source": [
        "\n",
        "\n",
        "---\n",
        "\n",
        "\n",
        "\n",
        "---\n",
        "\n",
        "\n",
        "\n",
        "> > > > > > > > > © 2023 Institute of Data\n",
        "\n",
        "\n",
        "---\n",
        "\n",
        "\n",
        "\n",
        "---\n",
        "\n",
        "\n",
        "\n"
      ]
    }
  ],
  "metadata": {
    "colab": {
      "provenance": [],
      "include_colab_link": true
    },
    "kernelspec": {
      "display_name": "Python 3",
      "language": "python",
      "name": "python3"
    },
    "language_info": {
      "codemirror_mode": {
        "name": "ipython",
        "version": 3
      },
      "file_extension": ".py",
      "mimetype": "text/x-python",
      "name": "python",
      "nbconvert_exporter": "python",
      "pygments_lexer": "ipython3",
      "version": "3.8.5"
    },
    "varInspector": {
      "cols": {
        "lenName": 16,
        "lenType": 16,
        "lenVar": 40
      },
      "kernels_config": {
        "python": {
          "delete_cmd_postfix": "",
          "delete_cmd_prefix": "del ",
          "library": "var_list.py",
          "varRefreshCmd": "print(var_dic_list())"
        },
        "r": {
          "delete_cmd_postfix": ") ",
          "delete_cmd_prefix": "rm(",
          "library": "var_list.r",
          "varRefreshCmd": "cat(var_dic_list()) "
        }
      },
      "types_to_exclude": [
        "module",
        "function",
        "builtin_function_or_method",
        "instance",
        "_Feature"
      ],
      "window_display": false
    }
  },
  "nbformat": 4,
  "nbformat_minor": 0
}